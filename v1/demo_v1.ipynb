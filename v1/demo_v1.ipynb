{
 "cells": [
  {
   "attachments": {},
   "cell_type": "markdown",
   "metadata": {},
   "source": [
    "# This is an example on how to use the cut-paste-v1, including\n",
    "1. whole image augmentation only\n",
    "2. cut-paste-only\n",
    "3. cut-paste + clean background (cut-paste-balanced)\n",
    "4. whole image augmentation images + cut-paste-only images + clean background images"
   ]
  },
  {
   "attachments": {},
   "cell_type": "markdown",
   "metadata": {},
   "source": [
    "(The experiemnt result can be found in ```./Cut_paste_v1/quant_result```)"
   ]
  },
  {
   "attachments": {},
   "cell_type": "markdown",
   "metadata": {},
   "source": [
    "## whole image augmentation only\n",
    "this code can achieve \"whole image augmentation only\" augmentation by simply set ```--lam_weights 1.0 0.0 0.0 ```\n",
    "Due to randomness, you may need to run multiple times to check the average results"
   ]
  },
  {
   "cell_type": "code",
   "execution_count": null,
   "metadata": {},
   "outputs": [],
   "source": [
    "! python Cut_paste_v1.py --root ./Cut_paste_v1/ --data_root 'carpet' --rnd_seed 0 --num_epochs 5  --dice_weight 0.5  --lr 0.0005 --batch_size 2 --lr_schedule_step_size 20 --apply_augmentations --lam_weights 1.0 0.0 0.0 "
   ]
  },
  {
   "attachments": {},
   "cell_type": "markdown",
   "metadata": {},
   "source": [
    "## cut-paste-only\n",
    "this code can achieve \"cut-paste-only\" augmentation by simply set ```--lam_weights 0.0 1.0 0.0 ```\n",
    "Due to randomness, you may need to run multiple times to check the average results. An interesting observation is that the performaenc improve by purely \"cut-paste-only\" is limited."
   ]
  },
  {
   "cell_type": "code",
   "execution_count": null,
   "metadata": {},
   "outputs": [],
   "source": [
    "! python Cut_paste_v1.py --root ./Cut_paste_v1/ --data_root 'carpet' --rnd_seed 0 --num_epochs 5  --dice_weight 0.5  --lr 0.0005 --batch_size 2 --lr_schedule_step_size 20 --apply_augmentations --lam_weights 0.0 1.0 0.0 "
   ]
  },
  {
   "attachments": {},
   "cell_type": "markdown",
   "metadata": {},
   "source": [
    "## cut-paste-balanced\n",
    "this code can achieve \"cut-paste-balanced\" augmentation by simply set ```--lam_weights 0.0 1.0 1.0 ```\n",
    "Due to randomness, you may need to run multiple times to check the average results. By combining clean background iamges, a performance improvement can be observed."
   ]
  },
  {
   "cell_type": "code",
   "execution_count": null,
   "metadata": {},
   "outputs": [],
   "source": [
    "! python Cut_paste_v1.py --root ./Cut_paste_v1/ --data_root 'carpet' --rnd_seed 0 --num_epochs 5  --dice_weight 0.5  --lr 0.0005 --batch_size 2 --lr_schedule_step_size 20 --apply_augmentations --lam_weights 0.0 1.0 1.0 "
   ]
  },
  {
   "attachments": {},
   "cell_type": "markdown",
   "metadata": {},
   "source": [
    "## whole image augmentation images + cut-paste-only images + clean background images\n",
    "this code can achieve \"whole image augmentation images + cut-paste-only images + clean background images\" augmentation by simply set ```--lam_weights 1.0 1.0 1.0 ```\n",
    "Due to randomness, you may need to run multiple times to check the average results. This acheives comparable result with \"cut-paste-balanced\", hwihc indicates further optimziation of the proportion is reasonable."
   ]
  },
  {
   "cell_type": "code",
   "execution_count": null,
   "metadata": {},
   "outputs": [],
   "source": [
    "! python Cut_paste_v1.py --root ./Cut_paste_v1/ --data_root 'carpet' --rnd_seed 0 --num_epochs 5  --dice_weight 0.5  --lr 0.0005 --batch_size 2 --lr_schedule_step_size 20 --apply_augmentations --lam_weights 1.0 1.0 1.0 "
   ]
  }
 ],
 "metadata": {
  "kernelspec": {
   "display_name": "SynData",
   "language": "python",
   "name": "python3"
  },
  "language_info": {
   "codemirror_mode": {
    "name": "ipython",
    "version": 3
   },
   "file_extension": ".py",
   "mimetype": "text/x-python",
   "name": "python",
   "nbconvert_exporter": "python",
   "pygments_lexer": "ipython3",
   "version": "3.11.4"
  },
  "orig_nbformat": 4
 },
 "nbformat": 4,
 "nbformat_minor": 2
}
